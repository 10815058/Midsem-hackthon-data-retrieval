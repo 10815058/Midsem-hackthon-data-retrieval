{
 "cells": [
  {
   "cell_type": "code",
   "execution_count": 1,
   "id": "76a22379",
   "metadata": {},
   "outputs": [],
   "source": [
    "import snscrape.modules.twitter as sntwitter\n",
    "import pandas as pd\n"
   ]
  },
  {
   "cell_type": "code",
   "execution_count": 20,
   "id": "65b5886e",
   "metadata": {},
   "outputs": [],
   "source": [
    "list_tweets = []\n",
    "\n",
    "for i,tweet in enumerate(sntwitter.TwitterSearchScraper('University of Ghana legon since:2019-01-01 until:2021-12-31').get_items()):\n",
    "    if i>1000:\n",
    "        break\n",
    "    list_tweets.append([tweet.date, tweet.id, tweet.content, tweet.user.username])\n",
    "    \n",
    "# Creating a dataframe from the tweets list above\n",
    "tweets_df_ug= pd.DataFrame(list_tweets, columns=['Datetime', 'Tweet Id', 'Text', 'Username'])"
   ]
  },
  {
   "cell_type": "code",
   "execution_count": 29,
   "id": "04b8aa4e",
   "metadata": {},
   "outputs": [],
   "source": [
    "UG_tweet = tweets_df_ug['Text'].to_frame()"
   ]
  },
  {
   "cell_type": "code",
   "execution_count": 22,
   "id": "e142de77",
   "metadata": {},
   "outputs": [],
   "source": [
    "list_tweets = []\n",
    "\n",
    "for i,tweet in enumerate(sntwitter.TwitterSearchScraper('Kwame Nkrumah University of Science and Technology KNUST since:2019-01-01 until:2021-12-31').get_items()):\n",
    "    if i>1000:\n",
    "        break\n",
    "    list_tweets.append([tweet.date, tweet.id, tweet.content, tweet.user.username])\n",
    "    \n",
    "# Creating a dataframe from the tweets list above\n",
    "tweets_df_tech= pd.DataFrame(list_tweets, columns=['Datetime', 'Tweet Id', 'Text', 'Username'])"
   ]
  },
  {
   "cell_type": "code",
   "execution_count": 30,
   "id": "baa41cb3",
   "metadata": {},
   "outputs": [],
   "source": [
    "tech_tweet = tweets_df_tech['Text'].to_frame()"
   ]
  },
  {
   "cell_type": "code",
   "execution_count": 32,
   "id": "34583a0c",
   "metadata": {},
   "outputs": [],
   "source": [
    "UG_tweet['Instituition'] = 'University of Ghana'"
   ]
  },
  {
   "cell_type": "code",
   "execution_count": 33,
   "id": "b47db840",
   "metadata": {},
   "outputs": [],
   "source": [
    "tech_tweet['Instituition'] = 'KNUST'"
   ]
  },
  {
   "cell_type": "code",
   "execution_count": 36,
   "id": "951800e3",
   "metadata": {},
   "outputs": [],
   "source": [
    "data = pd.concat([UG_tweet,tech_tweet])"
   ]
  },
  {
   "cell_type": "code",
   "execution_count": 43,
   "id": "93eaf315",
   "metadata": {},
   "outputs": [
    {
     "data": {
      "text/html": [
       "<div>\n",
       "<style scoped>\n",
       "    .dataframe tbody tr th:only-of-type {\n",
       "        vertical-align: middle;\n",
       "    }\n",
       "\n",
       "    .dataframe tbody tr th {\n",
       "        vertical-align: top;\n",
       "    }\n",
       "\n",
       "    .dataframe thead th {\n",
       "        text-align: right;\n",
       "    }\n",
       "</style>\n",
       "<table border=\"1\" class=\"dataframe\">\n",
       "  <thead>\n",
       "    <tr style=\"text-align: right;\">\n",
       "      <th></th>\n",
       "      <th>Text</th>\n",
       "      <th>Instituition</th>\n",
       "    </tr>\n",
       "  </thead>\n",
       "  <tbody>\n",
       "    <tr>\n",
       "      <th>0</th>\n",
       "      <td>The management of the Kwame Nkrumah University...</td>\n",
       "      <td>KNUST</td>\n",
       "    </tr>\n",
       "    <tr>\n",
       "      <th>1</th>\n",
       "      <td>The Management of Kwame Nkrumah University of ...</td>\n",
       "      <td>KNUST</td>\n",
       "    </tr>\n",
       "    <tr>\n",
       "      <th>2</th>\n",
       "      <td>Dear Fresher, \\n\\nCongratulations on your admi...</td>\n",
       "      <td>KNUST</td>\n",
       "    </tr>\n",
       "    <tr>\n",
       "      <th>3</th>\n",
       "      <td>PENSA KNUST congratulates you on your admissio...</td>\n",
       "      <td>KNUST</td>\n",
       "    </tr>\n",
       "    <tr>\n",
       "      <th>4</th>\n",
       "      <td>Congratulations to our dear freshers. You’ve m...</td>\n",
       "      <td>KNUST</td>\n",
       "    </tr>\n",
       "    <tr>\n",
       "      <th>...</th>\n",
       "      <td>...</td>\n",
       "      <td>...</td>\n",
       "    </tr>\n",
       "    <tr>\n",
       "      <th>996</th>\n",
       "      <td>Meet Jessica an alumnus of @legacygirlscollege...</td>\n",
       "      <td>KNUST</td>\n",
       "    </tr>\n",
       "    <tr>\n",
       "      <th>997</th>\n",
       "      <td>The College of Science, Kwame Nkrumah Universi...</td>\n",
       "      <td>KNUST</td>\n",
       "    </tr>\n",
       "    <tr>\n",
       "      <th>998</th>\n",
       "      <td>Centre for Cultural and African Studies (CeCAS...</td>\n",
       "      <td>KNUST</td>\n",
       "    </tr>\n",
       "    <tr>\n",
       "      <th>999</th>\n",
       "      <td>The three-member committee probing the violent...</td>\n",
       "      <td>KNUST</td>\n",
       "    </tr>\n",
       "    <tr>\n",
       "      <th>1000</th>\n",
       "      <td>A Political Science lecturer at the Kwame Nkru...</td>\n",
       "      <td>KNUST</td>\n",
       "    </tr>\n",
       "  </tbody>\n",
       "</table>\n",
       "<p>1001 rows × 2 columns</p>\n",
       "</div>"
      ],
      "text/plain": [
       "                                                   Text Instituition\n",
       "0     The management of the Kwame Nkrumah University...        KNUST\n",
       "1     The Management of Kwame Nkrumah University of ...        KNUST\n",
       "2     Dear Fresher, \\n\\nCongratulations on your admi...        KNUST\n",
       "3     PENSA KNUST congratulates you on your admissio...        KNUST\n",
       "4     Congratulations to our dear freshers. You’ve m...        KNUST\n",
       "...                                                 ...          ...\n",
       "996   Meet Jessica an alumnus of @legacygirlscollege...        KNUST\n",
       "997   The College of Science, Kwame Nkrumah Universi...        KNUST\n",
       "998   Centre for Cultural and African Studies (CeCAS...        KNUST\n",
       "999   The three-member committee probing the violent...        KNUST\n",
       "1000  A Political Science lecturer at the Kwame Nkru...        KNUST\n",
       "\n",
       "[1001 rows x 2 columns]"
      ]
     },
     "execution_count": 43,
     "metadata": {},
     "output_type": "execute_result"
    }
   ],
   "source": [
    "data[data['Instituition'] == 'KNUST']"
   ]
  },
  {
   "cell_type": "code",
   "execution_count": null,
   "id": "b9dafd42",
   "metadata": {},
   "outputs": [],
   "source": []
  }
 ],
 "metadata": {
  "kernelspec": {
   "display_name": "Python 3",
   "language": "python",
   "name": "python3"
  },
  "language_info": {
   "codemirror_mode": {
    "name": "ipython",
    "version": 3
   },
   "file_extension": ".py",
   "mimetype": "text/x-python",
   "name": "python",
   "nbconvert_exporter": "python",
   "pygments_lexer": "ipython3",
   "version": "3.8.8"
  }
 },
 "nbformat": 4,
 "nbformat_minor": 5
}
