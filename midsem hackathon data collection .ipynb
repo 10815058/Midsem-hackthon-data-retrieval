{
 "cells": [
  {
   "cell_type": "code",
   "execution_count": 1,
   "id": "76a22379",
   "metadata": {},
   "outputs": [
    {
     "ename": "ModuleNotFoundError",
     "evalue": "No module named 'pandas'",
     "output_type": "error",
     "traceback": [
      "\u001b[1;31m---------------------------------------------------------------------------\u001b[0m",
      "\u001b[1;31mModuleNotFoundError\u001b[0m                       Traceback (most recent call last)",
      "\u001b[1;32mC:\\Users\\KWADWO~1\\AppData\\Local\\Temp/ipykernel_13644/2002113855.py\u001b[0m in \u001b[0;36m<module>\u001b[1;34m\u001b[0m\n\u001b[0;32m      1\u001b[0m \u001b[1;32mimport\u001b[0m \u001b[0msnscrape\u001b[0m\u001b[1;33m.\u001b[0m\u001b[0mmodules\u001b[0m\u001b[1;33m.\u001b[0m\u001b[0mtwitter\u001b[0m \u001b[1;32mas\u001b[0m \u001b[0msntwitter\u001b[0m\u001b[1;33m\u001b[0m\u001b[1;33m\u001b[0m\u001b[0m\n\u001b[1;32m----> 2\u001b[1;33m \u001b[1;32mimport\u001b[0m \u001b[0mpandas\u001b[0m \u001b[1;32mas\u001b[0m \u001b[0mpd\u001b[0m\u001b[1;33m\u001b[0m\u001b[1;33m\u001b[0m\u001b[0m\n\u001b[0m",
      "\u001b[1;31mModuleNotFoundError\u001b[0m: No module named 'pandas'"
     ]
    }
   ],
   "source": [
    "import snscrape.modules.twitter as sntwitter\n",
    "import pandas as pd\n"
   ]
  },
  {
   "cell_type": "code",
   "execution_count": null,
   "id": "65b5886e",
   "metadata": {},
   "outputs": [],
   "source": [
    "list_tweets = []\n",
    "\n",
    "for i,tweet in enumerate(sntwitter.TwitterSearchScraper('University of Ghana legon since:2019-01-01 until:2021-12-31').get_items()):\n",
    "    if i>1000:\n",
    "        break\n",
    "    list_tweets.append([tweet.date, tweet.id, tweet.content, tweet.user.username])\n",
    "    \n",
    "# Creating a dataframe from the tweets list above\n",
    "tweets_df_ug= pd.DataFrame(list_tweets, columns=['Datetime', 'Tweet Id', 'Text', 'Username'])"
   ]
  },
  {
   "cell_type": "code",
   "execution_count": null,
   "id": "04b8aa4e",
   "metadata": {},
   "outputs": [],
   "source": [
    "UG_tweet = tweets_df_ug['Text'].to_frame()"
   ]
  },
  {
   "cell_type": "code",
   "execution_count": null,
   "id": "e142de77",
   "metadata": {},
   "outputs": [],
   "source": [
    "list_tweets = []\n",
    "\n",
    "for i,tweet in enumerate(sntwitter.TwitterSearchScraper('Kwame Nkrumah University of Science and Technology KNUST since:2019-01-01 until:2021-12-31').get_items()):\n",
    "    if i>1000:\n",
    "        break\n",
    "    list_tweets.append([tweet.date, tweet.id, tweet.content, tweet.user.username])\n",
    "    \n",
    "# Creating a dataframe from the tweets list above\n",
    "tweets_df_tech= pd.DataFrame(list_tweets, columns=['Datetime', 'Tweet Id', 'Text', 'Username'])"
   ]
  },
  {
   "cell_type": "code",
   "execution_count": null,
   "id": "baa41cb3",
   "metadata": {},
   "outputs": [],
   "source": [
    "tech_tweet = tweets_df_tech['Text'].to_frame()"
   ]
  },
  {
   "cell_type": "code",
   "execution_count": null,
   "id": "34583a0c",
   "metadata": {},
   "outputs": [],
   "source": [
    "UG_tweet['Instituition'] = 'University of Ghana'"
   ]
  },
  {
   "cell_type": "code",
   "execution_count": null,
   "id": "b47db840",
   "metadata": {},
   "outputs": [],
   "source": [
    "tech_tweet['Instituition'] = 'KNUST'"
   ]
  },
  {
   "cell_type": "code",
   "execution_count": null,
   "id": "951800e3",
   "metadata": {},
   "outputs": [],
   "source": [
    "data = pd.concat([UG_tweet,tech_tweet])"
   ]
  },
  {
   "cell_type": "code",
   "execution_count": null,
   "id": "93eaf315",
   "metadata": {},
   "outputs": [
    {
     "data": {
      "text/html": [
       "<div>\n",
       "<style scoped>\n",
       "    .dataframe tbody tr th:only-of-type {\n",
       "        vertical-align: middle;\n",
       "    }\n",
       "\n",
       "    .dataframe tbody tr th {\n",
       "        vertical-align: top;\n",
       "    }\n",
       "\n",
       "    .dataframe thead th {\n",
       "        text-align: right;\n",
       "    }\n",
       "</style>\n",
       "<table border=\"1\" class=\"dataframe\">\n",
       "  <thead>\n",
       "    <tr style=\"text-align: right;\">\n",
       "      <th></th>\n",
       "      <th>Text</th>\n",
       "      <th>Instituition</th>\n",
       "    </tr>\n",
       "  </thead>\n",
       "  <tbody>\n",
       "    <tr>\n",
       "      <th>0</th>\n",
       "      <td>The management of the Kwame Nkrumah University...</td>\n",
       "      <td>KNUST</td>\n",
       "    </tr>\n",
       "    <tr>\n",
       "      <th>1</th>\n",
       "      <td>The Management of Kwame Nkrumah University of ...</td>\n",
       "      <td>KNUST</td>\n",
       "    </tr>\n",
       "    <tr>\n",
       "      <th>2</th>\n",
       "      <td>Dear Fresher, \\n\\nCongratulations on your admi...</td>\n",
       "      <td>KNUST</td>\n",
       "    </tr>\n",
       "    <tr>\n",
       "      <th>3</th>\n",
       "      <td>PENSA KNUST congratulates you on your admissio...</td>\n",
       "      <td>KNUST</td>\n",
       "    </tr>\n",
       "    <tr>\n",
       "      <th>4</th>\n",
       "      <td>Congratulations to our dear freshers. You’ve m...</td>\n",
       "      <td>KNUST</td>\n",
       "    </tr>\n",
       "    <tr>\n",
       "      <th>...</th>\n",
       "      <td>...</td>\n",
       "      <td>...</td>\n",
       "    </tr>\n",
       "    <tr>\n",
       "      <th>996</th>\n",
       "      <td>Meet Jessica an alumnus of @legacygirlscollege...</td>\n",
       "      <td>KNUST</td>\n",
       "    </tr>\n",
       "    <tr>\n",
       "      <th>997</th>\n",
       "      <td>The College of Science, Kwame Nkrumah Universi...</td>\n",
       "      <td>KNUST</td>\n",
       "    </tr>\n",
       "    <tr>\n",
       "      <th>998</th>\n",
       "      <td>Centre for Cultural and African Studies (CeCAS...</td>\n",
       "      <td>KNUST</td>\n",
       "    </tr>\n",
       "    <tr>\n",
       "      <th>999</th>\n",
       "      <td>The three-member committee probing the violent...</td>\n",
       "      <td>KNUST</td>\n",
       "    </tr>\n",
       "    <tr>\n",
       "      <th>1000</th>\n",
       "      <td>A Political Science lecturer at the Kwame Nkru...</td>\n",
       "      <td>KNUST</td>\n",
       "    </tr>\n",
       "  </tbody>\n",
       "</table>\n",
       "<p>1001 rows × 2 columns</p>\n",
       "</div>"
      ],
      "text/plain": [
       "                                                   Text Instituition\n",
       "0     The management of the Kwame Nkrumah University...        KNUST\n",
       "1     The Management of Kwame Nkrumah University of ...        KNUST\n",
       "2     Dear Fresher, \\n\\nCongratulations on your admi...        KNUST\n",
       "3     PENSA KNUST congratulates you on your admissio...        KNUST\n",
       "4     Congratulations to our dear freshers. You’ve m...        KNUST\n",
       "...                                                 ...          ...\n",
       "996   Meet Jessica an alumnus of @legacygirlscollege...        KNUST\n",
       "997   The College of Science, Kwame Nkrumah Universi...        KNUST\n",
       "998   Centre for Cultural and African Studies (CeCAS...        KNUST\n",
       "999   The three-member committee probing the violent...        KNUST\n",
       "1000  A Political Science lecturer at the Kwame Nkru...        KNUST\n",
       "\n",
       "[1001 rows x 2 columns]"
      ]
     },
     "execution_count": 43,
     "metadata": {},
     "output_type": "execute_result"
    }
   ],
   "source": [
    "data.insert(0, 'ID', range(1, 1 + len(data)))"
   ]
  },
  {
   "cell_type": "code",
   "execution_count": 2,
   "id": "b9dafd42",
   "metadata": {},
   "outputs": [
    {
     "ename": "NameError",
     "evalue": "name 'data' is not defined",
     "output_type": "error",
     "traceback": [
      "\u001b[1;31m---------------------------------------------------------------------------\u001b[0m",
      "\u001b[1;31mNameError\u001b[0m                                 Traceback (most recent call last)",
      "\u001b[1;32mC:\\Users\\KWADWO~1\\AppData\\Local\\Temp/ipykernel_13644/927109222.py\u001b[0m in \u001b[0;36m<module>\u001b[1;34m\u001b[0m\n\u001b[1;32m----> 1\u001b[1;33m \u001b[0mprint\u001b[0m\u001b[1;33m(\u001b[0m\u001b[0mdata\u001b[0m\u001b[1;33m)\u001b[0m\u001b[1;33m\u001b[0m\u001b[1;33m\u001b[0m\u001b[0m\n\u001b[0m",
      "\u001b[1;31mNameError\u001b[0m: name 'data' is not defined"
     ]
    }
   ],
   "source": [
    "print(data)"
   ]
  },
  {
   "cell_type": "code",
   "execution_count": null,
   "id": "3a4ba50e",
   "metadata": {},
   "outputs": [],
   "source": []
  }
 ],
 "metadata": {
  "kernelspec": {
   "display_name": "Python 3.10.5 64-bit",
   "language": "python",
   "name": "python3"
  },
  "language_info": {
   "codemirror_mode": {
    "name": "ipython",
    "version": 3
   },
   "file_extension": ".py",
   "mimetype": "text/x-python",
   "name": "python",
   "nbconvert_exporter": "python",
   "pygments_lexer": "ipython3",
   "version": "3.10.5"
  },
  "vscode": {
   "interpreter": {
    "hash": "67407c93bc16ccf092c6d3f392e8d9750e18bd559cda3f5e5a4f2cb2d4799c20"
   }
  }
 },
 "nbformat": 4,
 "nbformat_minor": 5
}
